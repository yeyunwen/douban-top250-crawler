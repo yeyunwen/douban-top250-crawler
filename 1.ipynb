{
 "cells": [
  {
   "cell_type": "code",
   "execution_count": 1,
   "id": "b8975b7e-fa40-4172-b8de-e328c0ad831d",
   "metadata": {},
   "outputs": [],
   "source": [
    "import mysql.connector"
   ]
  },
  {
   "cell_type": "code",
   "execution_count": 2,
   "id": "47e109b3-0248-4b48-99b9-b5b47a988dfe",
   "metadata": {},
   "outputs": [],
   "source": [
    "# 连接到 MySQL 服务器\n",
    "conn = mysql.connector.connect(\n",
    "    host=\"localhost\",\n",
    "    user=\"root\",\n",
    "    password=\"123456\"\n",
    ")\n",
    "cursor = conn.cursor()"
   ]
  },
  {
   "cell_type": "code",
   "execution_count": 3,
   "id": "69df86aa-4c56-4f29-85d2-5b095d29df86",
   "metadata": {},
   "outputs": [],
   "source": [
    "# 创建数据库并使用\n",
    "cursor.execute(\"CREATE DATABASE IF NOT EXISTS school\")\n",
    "cursor.execute(\"USE school;\")"
   ]
  },
  {
   "cell_type": "code",
   "execution_count": 4,
   "id": "e9c8009a",
   "metadata": {},
   "outputs": [],
   "source": [
    "# 创建学生表 student\n",
    "create_student_table = \"\"\"\n",
    "CREATE TABLE IF NOT EXISTS student (\n",
    "    Sno VARCHAR(10) PRIMARY KEY COMMENT '学号，主键',\n",
    "    Sname VARCHAR(50) NOT NULL COMMENT '姓名',\n",
    "    Ssex VARCHAR(10) NOT NULL COMMENT '性别',\n",
    "    Sage INT NOT NULL COMMENT '年龄',\n",
    "    Sdept VARCHAR(50) NOT NULL COMMENT '所在系别'\n",
    ") COMMENT '学生表';\n",
    "\"\"\"\n",
    "cursor.execute(create_student_table)"
   ]
  },
  {
   "cell_type": "code",
   "execution_count": 5,
   "id": "1b61201d",
   "metadata": {},
   "outputs": [
    {
     "name": "stdout",
     "output_type": "stream",
     "text": [
      "[('student',)]\n"
     ]
    }
   ],
   "source": [
    "# 查看表\n",
    "cursor.execute(\"show tables;\")\n",
    "print(cursor.fetchall())\n"
   ]
  },
  {
   "cell_type": "code",
   "execution_count": 8,
   "id": "51fb367b",
   "metadata": {},
   "outputs": [],
   "source": [
    "cursor.execute(\"ALTER TABLE student MODIFY COLUMN Sno VARCHAR(50);\")"
   ]
  },
  {
   "cell_type": "code",
   "execution_count": 9,
   "id": "bc7609f6",
   "metadata": {},
   "outputs": [],
   "source": [
    "# 插入学生表数据\n",
    "students = [\n",
    "    (\"202205325115\", \"王孔昊\", \"男\", 21, \"CS\"),\n",
    "    (\"202205325116\", \"王译史\", \"男\", 21, \"CS\"),\n",
    "    (\"202205325114\", \"童遵员\", \"男\", 21, \"CS\"),\n",
    "    (\"202205325113\", \"李卓凡\", \"男\", 21, \"CS\"),\n",
    "    (\"202205325117\", \"同学4\", \"男\", 21, \"CS\"),\n",
    "]\n",
    "cursor.executemany(\n",
    "    \"INSERT INTO student (Sno, Sname, Ssex, Sage, Sdept) VALUES (%s, %s, %s, %s, %s) ON DUPLICATE KEY UPDATE Sname=VALUES(Sname);\",\n",
    "    students,\n",
    ")"
   ]
  },
  {
   "cell_type": "code",
   "execution_count": 20,
   "id": "17c84cab",
   "metadata": {},
   "outputs": [
    {
     "name": "stdout",
     "output_type": "stream",
     "text": [
      "[('202205325113', '李卓凡', '男', 21, 'CS'), ('202205325114', '童遵员', '男', 21, 'CS'), ('202205325115', '王孔昊', '男', 21, 'CS'), ('202205325116', '王译史', '男', 21, 'CS'), ('202205325117', '同学4', '男', 21, 'CS')]\n"
     ]
    }
   ],
   "source": [
    "cursor.execute(\"SELECT * FROM student;\")\n",
    "print(cursor.fetchall())\n"
   ]
  },
  {
   "cell_type": "code",
   "execution_count": 11,
   "id": "01c6b289",
   "metadata": {},
   "outputs": [],
   "source": [
    "# 创建课程表 course\n",
    "create_course_table = \"\"\"\n",
    "CREATE TABLE IF NOT EXISTS course (\n",
    "    Cno VARCHAR(10) PRIMARY KEY COMMENT '课程编号，主键',\n",
    "    Cname VARCHAR(50) NOT NULL COMMENT '课程名称',\n",
    "    Credit INT NOT NULL COMMENT '课程学分'\n",
    ") COMMENT '课程表';\n",
    "\"\"\"\n",
    "cursor.execute(create_course_table)"
   ]
  },
  {
   "cell_type": "code",
   "execution_count": 13,
   "id": "18c770a1",
   "metadata": {},
   "outputs": [
    {
     "name": "stdout",
     "output_type": "stream",
     "text": [
      "[('course',), ('student',)]\n"
     ]
    }
   ],
   "source": [
    "# 查看表\n",
    "cursor.execute(\"show tables;\")\n",
    "print(cursor.fetchall())\n"
   ]
  },
  {
   "cell_type": "code",
   "execution_count": 14,
   "id": "a653a3d7",
   "metadata": {},
   "outputs": [],
   "source": [
    "# 插入课程表数据\n",
    "courses = [\n",
    "    (\"00001\", \"DataBase\", 4),\n",
    "    (\"00002\", \"DataStructure\", 4),\n",
    "    (\"00003\", \"Algorithms\", 3),\n",
    "    (\"00004\", \"OperatingSystems\", 5),\n",
    "    (\"00005\", \"ComputerNetwork\", 4),\n",
    "]\n",
    "cursor.executemany(\n",
    "    \"INSERT INTO course (Cno, Cname, Credit) VALUES (%s, %s, %s) ON DUPLICATE KEY UPDATE Cname=VALUES(Cname);\",\n",
    "    courses,\n",
    ")"
   ]
  },
  {
   "cell_type": "code",
   "execution_count": 15,
   "id": "532399c7",
   "metadata": {},
   "outputs": [
    {
     "name": "stdout",
     "output_type": "stream",
     "text": [
      "[('00001', 'DataBase', 4), ('00002', 'DataStructure', 4), ('00003', 'Algorithms', 3), ('00004', 'OperatingSystems', 5), ('00005', 'ComputerNetwork', 4)]\n"
     ]
    }
   ],
   "source": [
    "cursor.execute(\"SELECT * FROM course;\")\n",
    "print(cursor.fetchall())"
   ]
  },
  {
   "cell_type": "code",
   "execution_count": 17,
   "id": "e0e34eb4",
   "metadata": {},
   "outputs": [],
   "source": [
    "# 创建选课表 sc\n",
    "create_sc_table = \"\"\"\n",
    "CREATE TABLE IF NOT EXISTS sc (\n",
    "    Sno VARCHAR(50) NOT NULL COMMENT '学生学号',\n",
    "    Cno VARCHAR(10) NOT NULL COMMENT '课程编号',\n",
    "    Grade INT NOT NULL COMMENT '成绩',\n",
    "    PRIMARY KEY (Sno, Cno),\n",
    "    FOREIGN KEY (Sno) REFERENCES student(Sno) ON DELETE CASCADE ON UPDATE CASCADE,\n",
    "    FOREIGN KEY (Cno) REFERENCES course(Cno) ON DELETE CASCADE ON UPDATE CASCADE\n",
    ") COMMENT '选课表';\n",
    "\"\"\"\n",
    "cursor.execute(create_sc_table)"
   ]
  },
  {
   "cell_type": "code",
   "execution_count": 22,
   "id": "bafa957c",
   "metadata": {},
   "outputs": [],
   "source": [
    "cursor.execute(\"ALTER TABLE sc MODIFY COLUMN Sno VARCHAR(50);\")"
   ]
  },
  {
   "cell_type": "code",
   "execution_count": 18,
   "id": "e13590ef",
   "metadata": {},
   "outputs": [
    {
     "name": "stdout",
     "output_type": "stream",
     "text": [
      "[('course',), ('sc',), ('student',)]\n"
     ]
    }
   ],
   "source": [
    "# 查看表\n",
    "cursor.execute(\"show tables;\")\n",
    "print(cursor.fetchall())"
   ]
  },
  {
   "cell_type": "code",
   "execution_count": 23,
   "id": "0d4271f0",
   "metadata": {},
   "outputs": [],
   "source": [
    "# 插入选课表数据\n",
    "sc_records = [\n",
    "    (\"202205325115\", \"00003\", 86),\n",
    "    (\"202205325116\", \"00002\", 90),\n",
    "    (\"202205325114\", \"00004\", 70),\n",
    "    (\"202205325113\", \"00001\", 85),\n",
    "    (\"202205325117\", \"00002\", 77),\n",
    "    (\"202205325115\", \"00003\", 88),\n",
    "]\n",
    "cursor.executemany(\n",
    "    \"INSERT INTO sc (Sno, Cno, Grade) VALUES (%s, %s, %s) ON DUPLICATE KEY UPDATE Grade=VALUES(Grade);\",\n",
    "    sc_records,\n",
    ")"
   ]
  },
  {
   "cell_type": "code",
   "execution_count": 24,
   "id": "18a39a83",
   "metadata": {},
   "outputs": [
    {
     "name": "stdout",
     "output_type": "stream",
     "text": [
      "[('202205325113', '00001', 85), ('202205325114', '00004', 70), ('202205325115', '00003', 88), ('202205325116', '00002', 90), ('202205325117', '00002', 77)]\n"
     ]
    }
   ],
   "source": [
    "cursor.execute(\"SELECT * FROM sc;\")\n",
    "print(cursor.fetchall())"
   ]
  }
 ],
 "metadata": {
  "kernelspec": {
   "display_name": "Python 3 (ipykernel)",
   "language": "python",
   "name": "python3"
  },
  "language_info": {
   "codemirror_mode": {
    "name": "ipython",
    "version": 3
   },
   "file_extension": ".py",
   "mimetype": "text/x-python",
   "name": "python",
   "nbconvert_exporter": "python",
   "pygments_lexer": "ipython3",
   "version": "3.12.8"
  }
 },
 "nbformat": 4,
 "nbformat_minor": 5
}
