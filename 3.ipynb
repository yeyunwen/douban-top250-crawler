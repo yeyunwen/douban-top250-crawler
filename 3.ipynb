{
 "cells": [
  {
   "cell_type": "code",
   "execution_count": 1,
   "metadata": {},
   "outputs": [],
   "source": [
    "import mysql.connector\n",
    "# 连接到 MySQL 服务器\n",
    "conn = mysql.connector.connect(\n",
    "    host=\"localhost\",\n",
    "    user=\"root\",\n",
    "    password=\"123456\"\n",
    ")\n",
    "cursor = conn.cursor()\n",
    "cursor.execute(\"USE school;\")"
   ]
  },
  {
   "cell_type": "code",
   "execution_count": 2,
   "metadata": {},
   "outputs": [],
   "source": [
    "# 插入学生表数据\n",
    "students = [\n",
    "    (\"202205325119\", \"王孔昊\", \"男\", 21, \"CS\"),\n",
    "]\n",
    "cursor.executemany(\n",
    "    \"INSERT INTO student (Sno, Sname, Ssex, Sage, Sdept) VALUES (%s, %s, %s, %s, %s) ON DUPLICATE KEY UPDATE Sname=VALUES(Sname);\",\n",
    "    students,\n",
    ")"
   ]
  }
 ],
 "metadata": {
  "kernelspec": {
   "display_name": "Python 3",
   "language": "python",
   "name": "python3"
  },
  "language_info": {
   "codemirror_mode": {
    "name": "ipython",
    "version": 3
   },
   "file_extension": ".py",
   "mimetype": "text/x-python",
   "name": "python",
   "nbconvert_exporter": "python",
   "pygments_lexer": "ipython3",
   "version": "3.12.8"
  }
 },
 "nbformat": 4,
 "nbformat_minor": 2
}
